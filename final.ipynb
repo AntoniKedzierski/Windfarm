{
 "cells": [
  {
   "cell_type": "markdown",
   "metadata": {},
   "source": [
    "## Kwestie techniczne\n",
    "Ładowanie bibliotek oraz własna klasa do tworzenia modeli regresji liniowej."
   ]
  },
  {
   "cell_type": "code",
   "execution_count": 1,
   "metadata": {},
   "outputs": [],
   "source": [
    "%matplotlib inline\n",
    "import numpy as np\n",
    "import pandas as pd\n",
    "import scipy.stats as stats\n",
    "import matplotlib.pyplot as plt\n",
    "import datetime\n",
    "import math\n",
    "import seaborn as sns\n",
    "from sklearn.linear_model import LinearRegression\n",
    "from sklearn.cluster import KMeans\n",
    "from scipy.optimize import curve_fit\n",
    "plt.rcParams['figure.figsize'] = [6, 4]\n",
    "plt.rcParams['figure.dpi'] = 100"
   ]
  },
  {
   "cell_type": "code",
   "execution_count": 2,
   "metadata": {},
   "outputs": [],
   "source": [
    "# --- Basic Linear Regression Class\n",
    "class _LinRegBasicModel:\n",
    "  def __init__(self, Y, X, echo=False):\n",
    "    if echo:\n",
    "      print(\"TASK: Build linear regression model...\")\n",
    "    # --- Type check for X\n",
    "    if echo:\n",
    "      print(\"  1. Validating data.\")\n",
    "    if isinstance(X, np.ndarray):\n",
    "      if len(X.shape) == 1:\n",
    "        self.p = 2\n",
    "      else:\n",
    "        self.p = X.shape[1] + 1\n",
    "      self.n = X.shape[0]\n",
    "      self.X = np.c_[np.repeat(1, self.n).reshape(self.n, 1), X]\n",
    "      self.var_names = [\"Intercept\"] + [f\"V{i}\" for i in range(1, self.p)]\n",
    "    elif isinstance(X, pd.DataFrame):\n",
    "      self.p = X.shape[1] + 1\n",
    "      self.n = X.shape[0]\n",
    "      self.X = np.c_[np.repeat(1, self.n).reshape(self.n, 1), X.to_numpy()]\n",
    "      if list(X.columns) == [i for i in range(len(X.columns))]:\n",
    "        self.var_names = [\"Intercept\"] + [f\"V{i}\" for i in range(1, self.p)]\n",
    "      else:\n",
    "        self.var_names = [\"Intercept\"] + list(X.columns)\n",
    "    elif isinstance(X, pd.Series):\n",
    "      self.p = 2\n",
    "      self.n = X.shape[0]\n",
    "      self.X = np.c_[np.repeat(1, self.n).reshape(self.n, 1), X.to_numpy().reshape((self.n, 1))]\n",
    "      self.var_names = [\"Intercept\", \"X\"]\n",
    "    else:\n",
    "      print(\"Unsupported data matrix (X) type:\", type(X))\n",
    "\n",
    "    # --- Check if Y has the same length as data\n",
    "    if echo:\n",
    "      print(\"  2. Validating response vector.\")\n",
    "    if isinstance(Y, np.ndarray):\n",
    "      if len(Y.shape) == 1:\n",
    "        if Y.shape[0] != self.n:\n",
    "          raise ValueError(\"Value vector (Y) has different length that data (X).\")\n",
    "        self.Y = Y.reshape(self.n, 1)\n",
    "      elif len(Y.shape) == 2:\n",
    "        if Y.shape[0] != self.n:\n",
    "          raise ValueError(\"Value vector (Y) has different length that data (X).\")\n",
    "        if Y.shape[1] != 1:\n",
    "          raise ValueError(\"Your value vector (Y) has more that one column.\")\n",
    "        self.Y = Y.reshape(self.n, 1)\n",
    "      else:\n",
    "        raise ValueError(\"Your value vector is invalid.\")\n",
    "      self.var_names = [\"Y\"] + self.var_names\n",
    "    elif isinstance(Y, pd.DataFrame):\n",
    "      if Y.shape[0] != self.n:\n",
    "        raise ValueError(\"Value vector (Y) has different length that data (X).\")\n",
    "      self.Y = Y.to_numpy()\n",
    "      if Y.columns[0] == 0:\n",
    "        self.var_names = [\"Y\"] + self.var_names\n",
    "      else:\n",
    "        self.var_names = [Y.columns[0]] + self.var_names\n",
    "    elif isinstance(Y, pd.Series):\n",
    "      if Y.shape[0] != self.n:\n",
    "        raise ValueError(\"Value vector (Y) has different length that data (X).\")\n",
    "      self.Y = Y.to_numpy().reshape((self.n, 1))\n",
    "      self.var_names = [\"Y\"] + self.var_names\n",
    "\n",
    "    # Informative form of data\n",
    "    self.data_matrix = pd.DataFrame(np.c_[self.Y, self.X], columns=self.var_names)\n",
    "\n",
    "    # SVD decomposition\n",
    "    if echo:\n",
    "      print(\"  3. Decomposing X with using SVD method.\")\n",
    "    self.U, self.D, self.Vt = np.linalg.svd(self.X, full_matrices=False)\n",
    "\n",
    "    # Calculate estimators\n",
    "    if echo:\n",
    "      print(\"  4. Calculating LSM estimators.\")\n",
    "    self.XX_inv = self.Vt.transpose() @ np.diag(1 / (self.D * self.D)) @ self.Vt\n",
    "    self.beta = np.squeeze(self.XX_inv @ (self.X.transpose() @ self.Y))\n",
    "\n",
    "    # Hat matrix and prediction\n",
    "    if echo:\n",
    "      print(\"  5. Calculating hat matrix and Y predictions.\")\n",
    "    self.H = self.U @ self.U.transpose()\n",
    "    self.Y_pred = self.H @ self.Y\n",
    "\n",
    "    # Rating the model\n",
    "    if echo:\n",
    "      print(\"  6. Rating the model.\")\n",
    "    self.SST = Y.transpose() @ Y - self.n * Y.mean()\n",
    "    self.SSE = (Y.transpose() @ Y - Y.transpose() @ self.Y_pred)[0]\n",
    "    self.SSR = self.SST - self.SSE\n",
    "    self.R2 = self.SSR / self.SST\n",
    "    self.R2_adj = 1 - self.SSE * (self.n - 1) / self.SST / (self.n - self.p)\n",
    "\n",
    "    # Estimators and statistics\n",
    "    if echo:\n",
    "      print(\"  7. Estimating error and calculating statistics.\")\n",
    "    self.S2 = self.SSE / (self.n - self.p)\n",
    "    self.SE_beta = np.sqrt(self.S2 * np.diag(self.XX_inv))\n",
    "    self.F_stat = self.SSR * (self.n - self.p) / self.SSE / (self.p - 1)\n",
    "    self.F_stat_pvalue = 1 - stats.f(self.p - 1, self.n - self.p).cdf(self.F_stat)\n",
    "    self.t_stat = self.beta / self.SE_beta\n",
    "    self.t_stat_pvalues = 2 * (1 - stats.t(self.n - self.p).cdf(np.abs(self.t_stat)))\n",
    "\n",
    "    # Calculating residuals\n",
    "    if echo:\n",
    "      print(\"  8. Calculating residuals.\\n\")\n",
    "    self._res = np.squeeze(self.Y - self.Y_pred)\n",
    "    self._res_stud = self._res / np.sqrt(self.S2 * (1 - np.diag(self.H)))\n",
    "    self._res_mod = self._res / (1 - np.diag(self.H))\n",
    "    self._res_mod_stud = self._res_mod / np.sqrt(((self.n - self.p) * (1 - np.diag(self.H)) * self.S2 - self._res ** 2) / (self.n - self.p - 1))\n",
    "    self.cook_dist = self._res_mod * np.diag(self.H) / self.p / (1 - np.diag(self.H))\n",
    "    self.residuals = pd.DataFrame({\n",
    "      \"fitValue\": self.Y_pred.squeeze(),\n",
    "      \"Residue\": self._res,\n",
    "      \"stdResidue\": self._res_stud,\n",
    "      \"modResidue\": self._res_mod,\n",
    "      \"modStdResidue\": self._res_mod_stud,\n",
    "      \"CooksDist\": self.cook_dist\n",
    "    })\n",
    "\n",
    "  def summary(self):\n",
    "    max_var_length = max([len(v) for v in self.var_names[1:]])\n",
    "    # Header\n",
    "    print(\" \" * max_var_length + \"      Estimate    Std.Error     t.stats     p-value\")\n",
    "\n",
    "    # Estimators\n",
    "    for i in range(len(self.beta)):\n",
    "      mark = \"\"\n",
    "      if self.t_stat_pvalues[i] <= 0.1:\n",
    "        mark = '.'\n",
    "      if self.t_stat_pvalues[i] <= 0.05:\n",
    "        mark = \"*\"\n",
    "      if self.t_stat_pvalues[i] <= 0.001:\n",
    "        mark = \"**\"\n",
    "      if self.t_stat_pvalues[i] <= 0.000001:\n",
    "        mark = \"***\"\n",
    "      print(f\"{self.var_names[i + 1]:{max_var_length}}\", \"  -\" if self.beta[i] < 0 else \"   \", f\"{abs(self.beta[i]):.5e}\",\n",
    "            \"  {0:11.4f}\".format(self.SE_beta[i]), \"  {0:10.4f}\".format(self.t_stat[i]), \"  {0:10.6f}\".format(self.t_stat_pvalues[i]),\n",
    "            \" \", mark, sep=\"\")\n",
    "\n",
    "    # Info\n",
    "    print()\n",
    "    print(\"(.): p <= 0.1  (*): p <= 0.05  (**): p <= 0.001  (***): p <= 1e-6\")\n",
    "    print()\n",
    "    print(\"Variance explanation %:\")\n",
    "    print(\"  R2: {0:7.7f}\".format(self.R2), \"     R2 adj.: {0:7.7f}\".format(self.R2_adj))\n",
    "    print()\n",
    "    print(\"F-statistics result. H0: all predictors are equal to zero.\")\n",
    "    print(\"  F: {0:10.4f}\".format(self.F_stat), \"with p-value: {0:6.6f}\".format(self.F_stat_pvalue), f\"on ({self.p - 1}, {self.n - self.p}) degree of freedom.\")\n",
    "    print()\n",
    "    print(\"Error estimator: {0:10.4f}\".format(self.S2))\n",
    "\n",
    "    if len(np.diag(self.H) >= 2 * self.p / self.n) > 0:\n",
    "      print()\n",
    "      print(\"There are some influential observations. Average influence:\", 2 * self.p / self.n)\n",
    "      print(pd.concat([self.data_matrix.loc[np.diag(self.H) >= 2 * self.p / self.n, self.data_matrix.columns != \"Intercept\"].reset_index(),\n",
    "                       pd.DataFrame({\"h_ii\": np.diag(self.H)[np.diag(self.H) >= 2 * self.p / self.n]})], axis=1))\n",
    "\n",
    "    if len(abs(self._res_mod_stud) > 2):\n",
    "      print()\n",
    "      print(\"There might be a few protruding observations.\")\n",
    "      print(pd.concat([self.data_matrix.loc[abs(self._res_mod_stud) > 2, self.data_matrix.columns != \"Intercept\"],\n",
    "                       self.residuals.loc[abs(self._res_mod_stud) > 2, \"modStdResidue\"]], axis=1).reset_index())\n",
    "      print(\"Consider removing some of them to obtain better model.\")\n",
    "\n",
    "  def print_data_matrix(self):\n",
    "    print(self.data_matrix)"
   ]
  },
  {
   "cell_type": "markdown",
   "metadata": {},
   "source": [
    "# Analiza starzenia się turbiny\n",
    "Poprzez starzenie się turbiny lub innymi słowy *health index* rozumiemy zdolność do generowania prądu zależną od czasu oraz ustalonych czynników zewnętrznych.\n",
    "Definiujemy funkcję:\n",
    "$$\\psi: T \\times U \\longrightarrow \\mathbb{R},$$\n",
    "gdzie:\n",
    " - $T \\subset\\mathbb{R}_+$ - skończony zbiór indeksów czasowych .\n",
    " - $U$ - $p$-wymiarowe dane, które reprezentują zbiór treningowy i służą do określenia segnementów, na jaki został on podzielony.\n",
    "\n",
    "Celem jest pokazanie, że funkcja $\\psi$ jest malejącą funkcją czasu, to znaczy, że turbina starzeje się i generuje mniej prądu w czasie."
   ]
  },
  {
   "cell_type": "markdown",
   "metadata": {},
   "source": [
    "### Plan analizy\n",
    "Badanie indeksu starzenia się turbiny podzielimy na następujące kroki:\n",
    " 1. Dla każdej turbiny określimy osobno zbiory $T$ oraz $U$, a także funkcję $\\psi$.\n",
    " 2. Dane zewnętrzne $U$ zostaną podzielone na $r$-wymiarowe kostki, $r \\leq p$, w zależności od turbiny. Jeżeli $r < p$, to powiemy, że niektóre dane zostały ściągnięte do zera, a pozostałe $r$ wymiarów z $p$ zostało posegmentowane. Segmentację wykonujemy indywidualnie, a liczbę wymiarów i jej sposób przedstawimy później.\n",
    " 3. Na posegmentowanych danych przeprowadzamy analizę skupień w celu utworzenia podzbiorów w obrębie każdej kostki danych.\n",
    " 4. Podzbiory te dzielimy względem czasu i obliczamy średnią z każdej paczki obserwacji. Liczba obserwacji w paczce jest parametrem uczenia modelu.\n",
    " 5. Przez punkty *średnie* prowadzimy linię prostą otrzymaną poprzez regresję. Ujemny współczynnik kierunkowy takiej prostej może być znakiem starzenia się turbiny.\n",
    " 6. Współczynniki kierunkowe ze wszystkich kostek agregujemy w większe kostki, które są łatwiejsze do zrozumienia dla technicznego staffu obsłubującego turbiny."
   ]
  },
  {
   "cell_type": "markdown",
   "metadata": {},
   "source": [
    "### Wczytanie danych"
   ]
  },
  {
   "cell_type": "code",
   "execution_count": 3,
   "metadata": {},
   "outputs": [],
   "source": [
    "signals = pd.read_csv(\"data/train/wind-farm-1-signals-training.csv\", sep=\";\")\n",
    "signals = signals[[\"Turbine_ID\", \"Timestamp\", \"Grd_Prod_Pwr_Avg\", \"Amb_WindSpeed_Avg\", \"Amb_Temp_Avg\", \"Nac_Temp_Avg\", \"Rtr_RPM_Avg\", \"Gear_Bear_Temp_Avg\", \"Gen_RPM_Avg\", \"Gen_Bear2_Temp_Avg\", \"Gen_Bear_Temp_Avg\"]]\n",
    "signals[\"Timestamp_Datetime\"] = pd.to_datetime(signals.Timestamp)\n",
    "signals.Timestamp_Datetime = signals.Timestamp_Datetime.apply(lambda dt: datetime.datetime(dt.year, dt.month, dt.day, dt.hour, dt.minute, dt.second))\n",
    "signals_T01 = signals.loc[signals.Turbine_ID == \"T01\"]\n",
    "signals_T06 = signals.loc[signals.Turbine_ID == \"T06\"]\n",
    "signals_T07 = signals.loc[signals.Turbine_ID == \"T07\"]\n",
    "signals_T09 = signals.loc[signals.Turbine_ID == \"T09\"]\n",
    "signals_T11 = signals.loc[signals.Turbine_ID == \"T11\"]"
   ]
  },
  {
   "cell_type": "markdown",
   "metadata": {},
   "source": [
    "### Funkcje segmentujące dane"
   ]
  },
  {
   "cell_type": "code",
   "execution_count": 4,
   "metadata": {},
   "outputs": [],
   "source": [
    "# Old version of 'slice_signals' function... (backup)\n",
    "def slice_signals(signals_source, turbine_id, wind_bins = np.arange(4, 10.5, 0.5), temp_bins = [4, 15, 19, 24, 41]):\n",
    "    indices = signals_source.loc[signals_source.Turbine_ID == turbine_id, :].index\n",
    "    wind = pd.cut(signals_source.loc[signals_source.Turbine_ID == turbine_id, :].Amb_WindSpeed_Avg, bins = np.arange(4, 10.5, 0.5))\n",
    "    temp = pd.cut(signals_source.loc[signals_source.Turbine_ID == turbine_id, :].Amb_Temp_Avg, bins = temp_bins)\n",
    "    segments = pd.DataFrame({\n",
    "        \"Wind\": wind, \n",
    "        \"Temp\": temp, \n",
    "        \"Power\": signals_source.loc[signals_source.Turbine_ID == turbine_id, :].Grd_Prod_Pwr_Avg, \n",
    "        \"Time\": signals_source.loc[signals_source.Turbine_ID == turbine_id, :].Timestamp_Datetime\n",
    "    })\n",
    "    return segments.dropna().loc[segments.Power >= 10, :].sort_values(by = [\"Wind\", \"Temp\", \"Time\"])"
   ]
  },
  {
   "cell_type": "code",
   "execution_count": 5,
   "metadata": {},
   "outputs": [],
   "source": [
    "def slice_signals(source, time_batch=30, power_threshold=15, **kwargs):\n",
    "    '''\n",
    "    @param source: Dataset for one specified turbine.\n",
    "    @kwargs:\n",
    "        Kwargs names specify variables along which the data will be segmented.\n",
    "        As params available are either lists that set break points of corresponding variables, None - preserve\n",
    "        a variable as it is or a integer that breaks data into batches of that size.\n",
    "        The order of slicing a dataframe is:\n",
    "            - None types\n",
    "            - lists\n",
    "            - ints # (to nie działa, ale nie chce mi się zmieniać...)\n",
    "        This means that batches of given size are created AFTER spliting a frame along breakpoints given by list-type params.\n",
    "    '''\n",
    "    if len(kwargs) == 0:\n",
    "        print(\"Segmentation axes have not been specified.\")\n",
    "        return None\n",
    "    \n",
    "    # Rename dict:\n",
    "    rename_dict = {\n",
    "        \"Timestamp_Datetime\": \"Time\",\n",
    "        \"Grd_Prod_Pwr_Avg\": \"Power\",\n",
    "        \"Amb_WindSpeed_Avg\": \"Wind\",\n",
    "        \"Amb_Temp_Avg\": \"Temp\",\n",
    "        \"Nac_Temp_Avg\": \"NacTemp\",\n",
    "        \"Rtr_RPM_Avg\": \"RotorRMP\",\n",
    "        \"Gen_RPM_Avg\": \"GeneratorRMP\",\n",
    "        \"Gear_Bear_Temp_Avg\": \"GearTmp\",\n",
    "        \"Gen_Bear_Temp_Avg\": \"GenBear1Temp\",\n",
    "        \"Gen_Bear2_Temp_Avg\": \"GenBear2Temp\"\n",
    "    }\n",
    "    reverse_rename_dict = {v: k for k, v in rename_dict.items()}\n",
    "    \n",
    "    # Select desired variables, which were correctly passed\n",
    "    variables = [\"Timestamp_Datetime\", \"Grd_Prod_Pwr_Avg\"]\n",
    "    renamed_kwargs = {}\n",
    "    for axis in kwargs:\n",
    "        if kwargs[axis] is not None and not isinstance(kwargs[axis], int) and not isinstance(kwargs[axis], list):\n",
    "            print(\"In kwargs:\", axis, f\"has not supported type {type(kwargs[axis])}. Available are: lists, integers or None.\")\n",
    "            continue\n",
    "        if axis in reverse_rename_dict:\n",
    "            variables.append(reverse_rename_dict[axis])\n",
    "            renamed_kwargs[axis] = kwargs[axis]\n",
    "        else:\n",
    "            if axis not in source.columns:\n",
    "                continue\n",
    "            variables.append(axis)\n",
    "            renamed_kwargs[rename_dict[axis]] = kwargs[axis]\n",
    "    selected = source.loc[source.Grd_Prod_Pwr_Avg >= power_threshold, variables].rename(columns=rename_dict)\n",
    "    selected[\"Time\"] = (selected[\"Time\"] - selected[\"Time\"].iloc[0]) / np.timedelta64(1, 'D')\n",
    "    variables = list(selected.columns)\n",
    "    \n",
    "    # Cutting a frame using list-type params    \n",
    "    cutting_variables = []\n",
    "    for axis in renamed_kwargs:\n",
    "        if not isinstance(kwargs[axis], list):\n",
    "            continue\n",
    "        source_row = source.loc[:, reverse_rename_dict[axis]]\n",
    "        bins = [min(source_row)] + renamed_kwargs[axis] + [max(source_row)]\n",
    "        cut_along_axis = pd.cut(source_row, bins=bins, include_lowest=True)\n",
    "        selected[axis + \"_cut\"] = cut_along_axis\n",
    "        cutting_variables.append(axis + \"_cut\")\n",
    "\n",
    "    # Create time batches\n",
    "    result_full = []\n",
    "    for i, (name, group) in enumerate(selected.groupby(by=cutting_variables)):\n",
    "        ng = group.shape[0]\n",
    "        group[\"Time_batch\"] = np.repeat(np.arange(0, ng // time_batch + 1, 1, dtype=int), time_batch)[:ng]\n",
    "        group_power_mean = group.groupby(\"Time_batch\").mean()[\"Power\"]\n",
    "        group[\"Power_mean\"] = [group_power_mean[g] for g in group[\"Time_batch\"]]\n",
    "        result_full.append((name, group))\n",
    "    \n",
    "    # Return only those data frames that have more than time_batches * 5 observations.\n",
    "    # Warn a user if some data frames have been deleted.\n",
    "    result = []\n",
    "    for group in result_full:\n",
    "        if group[1].shape[0] < time_batch * 5:\n",
    "            print(f\"There were not enough observations ({group[1].shape[0]}) in\", group[0])\n",
    "        else:\n",
    "            result.append(group)\n",
    "    \n",
    "    print(\"Returned\", len(result), \"of\", len(result_full), \"distinct data frames grouped by:\", \n",
    "          cutting_variables + [\"Time_batch\"])\n",
    "    print(\"Sizes of data frames:\", sorted([v[1].shape[0] for v in result]))\n",
    "    return result\n",
    "        \n",
    "            \n",
    "    "
   ]
  },
  {
   "cell_type": "code",
   "execution_count": 6,
   "metadata": {},
   "outputs": [
    {
     "name": "stdout",
     "output_type": "stream",
     "text": [
      "There were not enough observations (6) in (Interval(0.399, 3.0, closed='right'), Interval(10.0, 20.0, closed='right'))\n",
      "There were not enough observations (14) in (Interval(0.399, 3.0, closed='right'), Interval(20.0, 30.0, closed='right'))\n",
      "There were not enough observations (13) in (Interval(3.0, 3.5, closed='right'), Interval(4.999, 10.0, closed='right'))\n",
      "There were not enough observations (27) in (Interval(3.0, 3.5, closed='right'), Interval(30.0, 41.0, closed='right'))\n",
      "There were not enough observations (78) in (Interval(3.5, 4.0, closed='right'), Interval(4.999, 10.0, closed='right'))\n",
      "There were not enough observations (64) in (Interval(4.0, 4.5, closed='right'), Interval(4.999, 10.0, closed='right'))\n",
      "There were not enough observations (85) in (Interval(4.5, 5.0, closed='right'), Interval(4.999, 10.0, closed='right'))\n",
      "There were not enough observations (44) in (Interval(5.0, 5.5, closed='right'), Interval(4.999, 10.0, closed='right'))\n",
      "There were not enough observations (45) in (Interval(5.5, 6.0, closed='right'), Interval(4.999, 10.0, closed='right'))\n",
      "There were not enough observations (37) in (Interval(6.0, 6.5, closed='right'), Interval(4.999, 10.0, closed='right'))\n",
      "There were not enough observations (24) in (Interval(6.5, 7.0, closed='right'), Interval(4.999, 10.0, closed='right'))\n",
      "Returned 27 of 38 distinct data frames grouped by: ['Wind_cut', 'Temp_cut', 'Time_batch']\n",
      "Sizes of data frames: [167, 178, 182, 196, 214, 251, 256, 273, 273, 512, 1165, 1281, 1377, 1585, 1616, 1619, 1622, 1736, 2115, 2239, 2252, 2353, 2367, 2382, 2417, 12520, 13969]\n"
     ]
    }
   ],
   "source": [
    "sliced_T01 = slice_signals(signals_T01, Wind=[3, 3.5, 4, 4.5, 5, 5.5, 6, 6.5, 7], Temp=[10, 20, 30])"
   ]
  },
  {
   "cell_type": "markdown",
   "metadata": {},
   "source": [
    "### Odpowiedni dobór interwałów grupujących\n",
    "Jak widać na powyższym przykładzie, taki dobór zmiennych nie jest jednostajny. Istnieją ramki z bardzo małą liczbą obserwacji oraz z dużą. Dążymy do osiągnięcia równomiernego podziału."
   ]
  },
  {
   "cell_type": "code",
   "execution_count": 7,
   "metadata": {},
   "outputs": [
    {
     "data": {
      "text/plain": [
       "<AxesSubplot:xlabel='Amb_WindSpeed_Avg', ylabel='Count'>"
      ]
     },
     "execution_count": 7,
     "metadata": {},
     "output_type": "execute_result"
    },
    {
     "data": {
      "image/png": "[encoded data removed]",
      "text/plain": [
       "<Figure size 600x400 with 1 Axes>"
      ]
     },
     "metadata": {
      "needs_background": "light"
     },
     "output_type": "display_data"
    }
   ],
   "source": [
    "sns.histplot(signals_T01.Amb_WindSpeed_Avg)"
   ]
  },
  {
   "cell_type": "code",
   "execution_count": 8,
   "metadata": {},
   "outputs": [],
   "source": [
    "wind_split = [3, 3.5, 4, 4.5, 5, 5.5, 6, 7, 9, 12]"
   ]
  },
  {
   "cell_type": "code",
   "execution_count": 9,
   "metadata": {},
   "outputs": [
    {
     "data": {
      "text/plain": [
       "<AxesSubplot:xlabel='Amb_Temp_Avg', ylabel='Count'>"
      ]
     },
     "execution_count": 9,
     "metadata": {},
     "output_type": "execute_result"
    },
    {
     "data": {
      "image/png": "[encoded data removed]",
      "text/plain": [
       "<Figure size 600x400 with 1 Axes>"
      ]
     },
     "metadata": {
      "needs_background": "light"
     },
     "output_type": "display_data"
    }
   ],
   "source": [
    "sns.histplot(signals_T01.Amb_Temp_Avg)"
   ]
  },
  {
   "cell_type": "code",
   "execution_count": 10,
   "metadata": {},
   "outputs": [],
   "source": [
    "temp_split = [12, 15, 18, 20, 22, 25, 30, 35]"
   ]
  },
  {
   "cell_type": "code",
   "execution_count": 11,
   "metadata": {},
   "outputs": [
    {
     "name": "stdout",
     "output_type": "stream",
     "text": [
      "There were not enough observations (3) in (Interval(0.399, 3.0, closed='right'), Interval(12.0, 15.0, closed='right'))\n",
      "There were not enough observations (2) in (Interval(0.399, 3.0, closed='right'), Interval(15.0, 18.0, closed='right'))\n",
      "There were not enough observations (1) in (Interval(0.399, 3.0, closed='right'), Interval(18.0, 20.0, closed='right'))\n",
      "There were not enough observations (2) in (Interval(0.399, 3.0, closed='right'), Interval(20.0, 22.0, closed='right'))\n",
      "There were not enough observations (4) in (Interval(0.399, 3.0, closed='right'), Interval(22.0, 25.0, closed='right'))\n",
      "There were not enough observations (8) in (Interval(0.399, 3.0, closed='right'), Interval(25.0, 30.0, closed='right'))\n",
      "There were not enough observations (66) in (Interval(3.0, 3.5, closed='right'), Interval(4.999, 12.0, closed='right'))\n",
      "There were not enough observations (84) in (Interval(3.0, 3.5, closed='right'), Interval(18.0, 20.0, closed='right'))\n",
      "There were not enough observations (89) in (Interval(3.0, 3.5, closed='right'), Interval(20.0, 22.0, closed='right'))\n",
      "There were not enough observations (77) in (Interval(3.0, 3.5, closed='right'), Interval(22.0, 25.0, closed='right'))\n",
      "There were not enough observations (85) in (Interval(3.0, 3.5, closed='right'), Interval(25.0, 30.0, closed='right'))\n",
      "There were not enough observations (26) in (Interval(3.0, 3.5, closed='right'), Interval(30.0, 35.0, closed='right'))\n",
      "There were not enough observations (1) in (Interval(3.0, 3.5, closed='right'), Interval(35.0, 41.0, closed='right'))\n",
      "There were not enough observations (22) in (Interval(3.5, 4.0, closed='right'), Interval(35.0, 41.0, closed='right'))\n",
      "There were not enough observations (29) in (Interval(4.0, 4.5, closed='right'), Interval(35.0, 41.0, closed='right'))\n",
      "There were not enough observations (43) in (Interval(4.5, 5.0, closed='right'), Interval(35.0, 41.0, closed='right'))\n",
      "There were not enough observations (21) in (Interval(5.0, 5.5, closed='right'), Interval(35.0, 41.0, closed='right'))\n",
      "There were not enough observations (19) in (Interval(5.5, 6.0, closed='right'), Interval(35.0, 41.0, closed='right'))\n",
      "There were not enough observations (40) in (Interval(6.0, 7.0, closed='right'), Interval(35.0, 41.0, closed='right'))\n",
      "There were not enough observations (29) in (Interval(7.0, 9.0, closed='right'), Interval(35.0, 41.0, closed='right'))\n",
      "There were not enough observations (23) in (Interval(9.0, 12.0, closed='right'), Interval(35.0, 41.0, closed='right'))\n",
      "There were not enough observations (62) in (Interval(12.0, 24.8, closed='right'), Interval(4.999, 12.0, closed='right'))\n",
      "Returned 73 of 95 distinct data frames grouped by: ['Wind_cut', 'Temp_cut', 'Time_batch']\n",
      "Sizes of data frames: [155, 157, 160, 178, 185, 186, 197, 230, 233, 237, 239, 252, 254, 269, 298, 315, 320, 323, 364, 368, 396, 410, 418, 422, 439, 441, 444, 449, 465, 471, 472, 491, 509, 511, 569, 570, 574, 592, 606, 618, 630, 646, 664, 705, 712, 744, 757, 782, 882, 911, 916, 929, 941, 979, 1034, 1057, 1081, 1104, 1155, 1179, 1322, 1339, 1368, 1462, 1599, 1640, 1742, 1808, 1860, 1998, 2056, 2902, 3127]\n"
     ]
    }
   ],
   "source": [
    "slices_T01 = slice_signals(signals_T01, Wind=wind_split, Temp=temp_split)"
   ]
  },
  {
   "cell_type": "markdown",
   "metadata": {},
   "source": [
    "Podział został wyrównany. Nie staramy się wygładzić go jeszcze bardziej, gdyż zależy nam na pogrupowaniu obserwacji do podobnych warunków atmosferycznych, a drobniejszy podział mógłby zacierać różnice między grupami."
   ]
  },
  {
   "cell_type": "markdown",
   "metadata": {},
   "source": [
    "## Dopasowanie prostych do uśrednionych wartości mocy\n",
    "\n",
    "Do każdej grupy dopasowujemy prostą w modelu regresji liniowej `Power_mean ~ Time`."
   ]
  },
  {
   "cell_type": "code",
   "execution_count": 23,
   "metadata": {},
   "outputs": [],
   "source": [
    "def make_regression(turbine_slices, visualize=False):\n",
    "    results = {}\n",
    "    cutting_variables = [c.replace(\"_cut\", \"\") for c in turbine_slices[0][1].columns if \"_cut\" in c]\n",
    "    for c in cutting_variables:\n",
    "        results[c + \"_lower\"] = []\n",
    "        results[c + \"_upper\"] = []\n",
    "    results[\"Slope\"] = []\n",
    "\n",
    "    for group in turbine_slices:\n",
    "        for i, cutter in enumerate(group[0]):\n",
    "            results[cutting_variables[i] + \"_lower\"].append(cutter.left)\n",
    "            results[cutting_variables[i] + \"_upper\"].append(cutter.right)\n",
    "        time_group = group[1].groupby(\"Time_batch\")\n",
    "        group_centers = 0.5 * (time_group.first()[\"Time\"] + time_group.last()[\"Time\"])\n",
    "        group_powers = time_group.first()[\"Power_mean\"]\n",
    "        model = _LinRegBasicModel(group_powers, group_centers)\n",
    "        if visualize:\n",
    "            sns.scatterplot(x=group[1].Time, y=group[1].Power)\n",
    "            sns.scatterplot(x=group_centers, y=group_powers, marker=\"*\", s=200)\n",
    "            sns.lineplot(\n",
    "                x=[group_centers[0], group_centers[len(group_centers) - 1]], \n",
    "                y=[group_centers[0] * model.beta[1] + model.beta[0],\n",
    "                   group_centers[1] * model.beta[1] + model.beta[0]],\n",
    "                color=\"red\")\n",
    "            plt.show()\n",
    "        \n",
    "        results[\"Slope\"].append(model.beta[1])\n",
    "                \n",
    "    print(f\"{sum(np.array(results['Slope']) < 0)} of {len(results['Slope'])} are less than zero.\")\n",
    "    return pd.DataFrame(results)"
   ]
  },
  {
   "cell_type": "code",
   "execution_count": 24,
   "metadata": {},
   "outputs": [
    {
     "name": "stdout",
     "output_type": "stream",
     "text": [
      "40 of 73 are less than zero.\n"
     ]
    }
   ],
   "source": [
    "result_T01 = make_regression(slices_T01, visualize=False)"
   ]
  },
  {
   "cell_type": "code",
   "execution_count": 25,
   "metadata": {},
   "outputs": [],
   "source": [
    "def plot_results(result):\n",
    "    sns.scatterplot(y=result.Slope, x = np.arange(0, result.shape[0]))\n",
    "    sns.lineplot(y=[0, 0], x=[0, result.shape[0] - 1], color=\"red\", dashes=[(2, 2)], style=True)\n",
    "    sns.lineplot(y=[np.mean(result.Slope), np.mean(result.Slope)], x=[0, result.shape[0] - 1], color=\"red\")\n",
    "    plt.show()"
   ]
  },
  {
   "cell_type": "code",
   "execution_count": 26,
   "metadata": {},
   "outputs": [
    {
     "data": {
      "image/png": "[encoded data removed]",
      "text/plain": [
       "<Figure size 600x400 with 1 Axes>"
      ]
     },
     "metadata": {
      "needs_background": "light"
     },
     "output_type": "display_data"
    }
   ],
   "source": [
    "plot_results(result_T01)"
   ]
  },
  {
   "cell_type": "markdown",
   "metadata": {},
   "source": [
    "## Analiza pozostałych turbin"
   ]
  },
  {
   "cell_type": "code",
   "execution_count": 27,
   "metadata": {
    "scrolled": true
   },
   "outputs": [
    {
     "name": "stdout",
     "output_type": "stream",
     "text": [
      "There were not enough observations (22) in (Interval(0.399, 3.0, closed='right'), Interval(4.999, 12.0, closed='right'))\n",
      "There were not enough observations (20) in (Interval(0.399, 3.0, closed='right'), Interval(12.0, 15.0, closed='right'))\n",
      "There were not enough observations (10) in (Interval(0.399, 3.0, closed='right'), Interval(15.0, 18.0, closed='right'))\n",
      "There were not enough observations (3) in (Interval(0.399, 3.0, closed='right'), Interval(18.0, 20.0, closed='right'))\n",
      "There were not enough observations (2) in (Interval(0.399, 3.0, closed='right'), Interval(20.0, 22.0, closed='right'))\n",
      "There were not enough observations (1) in (Interval(0.399, 3.0, closed='right'), Interval(22.0, 25.0, closed='right'))\n",
      "There were not enough observations (1) in (Interval(0.399, 3.0, closed='right'), Interval(25.0, 30.0, closed='right'))\n",
      "There were not enough observations (6) in (Interval(0.399, 3.0, closed='right'), Interval(30.0, 35.0, closed='right'))\n",
      "There were not enough observations (139) in (Interval(3.0, 3.5, closed='right'), Interval(18.0, 20.0, closed='right'))\n",
      "There were not enough observations (129) in (Interval(3.0, 3.5, closed='right'), Interval(20.0, 22.0, closed='right'))\n",
      "There were not enough observations (116) in (Interval(3.0, 3.5, closed='right'), Interval(22.0, 25.0, closed='right'))\n",
      "There were not enough observations (99) in (Interval(3.0, 3.5, closed='right'), Interval(25.0, 30.0, closed='right'))\n",
      "There were not enough observations (39) in (Interval(3.0, 3.5, closed='right'), Interval(30.0, 35.0, closed='right'))\n",
      "There were not enough observations (5) in (Interval(3.0, 3.5, closed='right'), Interval(35.0, 41.0, closed='right'))\n",
      "There were not enough observations (28) in (Interval(3.5, 4.0, closed='right'), Interval(35.0, 41.0, closed='right'))\n",
      "There were not enough observations (43) in (Interval(4.0, 4.5, closed='right'), Interval(35.0, 41.0, closed='right'))\n",
      "There were not enough observations (36) in (Interval(4.5, 5.0, closed='right'), Interval(35.0, 41.0, closed='right'))\n",
      "There were not enough observations (24) in (Interval(5.0, 5.5, closed='right'), Interval(35.0, 41.0, closed='right'))\n",
      "There were not enough observations (17) in (Interval(5.5, 6.0, closed='right'), Interval(35.0, 41.0, closed='right'))\n",
      "There were not enough observations (37) in (Interval(6.0, 7.0, closed='right'), Interval(35.0, 41.0, closed='right'))\n",
      "There were not enough observations (24) in (Interval(7.0, 9.0, closed='right'), Interval(35.0, 41.0, closed='right'))\n",
      "There were not enough observations (8) in (Interval(9.0, 12.0, closed='right'), Interval(35.0, 41.0, closed='right'))\n",
      "There were not enough observations (73) in (Interval(12.0, 26.6, closed='right'), Interval(4.999, 12.0, closed='right'))\n",
      "There were not enough observations (64) in (Interval(12.0, 26.6, closed='right'), Interval(30.0, 35.0, closed='right'))\n",
      "Returned 73 of 97 distinct data frames grouped by: ['Wind_cut', 'Temp_cut', 'Time_batch']\n",
      "Sizes of data frames: [151, 162, 171, 175, 181, 181, 204, 212, 231, 238, 244, 269, 286, 328, 368, 368, 388, 401, 404, 410, 413, 418, 429, 435, 448, 452, 456, 457, 469, 485, 486, 492, 512, 514, 529, 559, 562, 595, 605, 606, 628, 636, 659, 685, 721, 740, 771, 824, 824, 833, 853, 857, 864, 980, 1008, 1014, 1019, 1060, 1091, 1133, 1177, 1197, 1201, 1489, 1515, 1742, 1753, 1811, 1820, 1890, 2116, 2717, 2740]\n",
      "39 of 73 are less than zero.\n"
     ]
    },
    {
     "data": {
      "image/png": "[encoded data removed]",
      "text/plain": [
       "<Figure size 600x400 with 1 Axes>"
      ]
     },
     "metadata": {
      "needs_background": "light"
     },
     "output_type": "display_data"
    }
   ],
   "source": [
    "slices_T06 = slice_signals(signals_T06, Wind=wind_split, Temp=temp_split)\n",
    "result_T06 = make_regression(slices_T06, visualize=False)\n",
    "plot_results(result_T06)"
   ]
  },
  {
   "cell_type": "code",
   "execution_count": 17,
   "metadata": {},
   "outputs": [
    {
     "name": "stdout",
     "output_type": "stream",
     "text": [
      "There were not enough observations (1) in (Interval(0.499, 3.0, closed='right'), Interval(3.999, 12.0, closed='right'))\n",
      "There were not enough observations (2) in (Interval(0.499, 3.0, closed='right'), Interval(15.0, 18.0, closed='right'))\n",
      "There were not enough observations (4) in (Interval(0.499, 3.0, closed='right'), Interval(20.0, 22.0, closed='right'))\n",
      "There were not enough observations (1) in (Interval(0.499, 3.0, closed='right'), Interval(25.0, 30.0, closed='right'))\n",
      "There were not enough observations (1) in (Interval(0.499, 3.0, closed='right'), Interval(30.0, 35.0, closed='right'))\n",
      "There were not enough observations (98) in (Interval(3.0, 3.5, closed='right'), Interval(3.999, 12.0, closed='right'))\n",
      "There were not enough observations (72) in (Interval(3.0, 3.5, closed='right'), Interval(18.0, 20.0, closed='right'))\n",
      "There were not enough observations (83) in (Interval(3.0, 3.5, closed='right'), Interval(20.0, 22.0, closed='right'))\n",
      "There were not enough observations (69) in (Interval(3.0, 3.5, closed='right'), Interval(22.0, 25.0, closed='right'))\n",
      "There were not enough observations (50) in (Interval(3.0, 3.5, closed='right'), Interval(25.0, 30.0, closed='right'))\n",
      "There were not enough observations (25) in (Interval(3.0, 3.5, closed='right'), Interval(30.0, 35.0, closed='right'))\n",
      "There were not enough observations (144) in (Interval(3.5, 4.0, closed='right'), Interval(30.0, 35.0, closed='right'))\n",
      "There were not enough observations (25) in (Interval(3.5, 4.0, closed='right'), Interval(35.0, 41.0, closed='right'))\n",
      "There were not enough observations (39) in (Interval(4.0, 4.5, closed='right'), Interval(35.0, 41.0, closed='right'))\n",
      "There were not enough observations (40) in (Interval(4.5, 5.0, closed='right'), Interval(35.0, 41.0, closed='right'))\n",
      "There were not enough observations (12) in (Interval(5.0, 5.5, closed='right'), Interval(35.0, 41.0, closed='right'))\n",
      "There were not enough observations (16) in (Interval(5.5, 6.0, closed='right'), Interval(35.0, 41.0, closed='right'))\n",
      "There were not enough observations (39) in (Interval(6.0, 7.0, closed='right'), Interval(35.0, 41.0, closed='right'))\n",
      "There were not enough observations (34) in (Interval(7.0, 9.0, closed='right'), Interval(35.0, 41.0, closed='right'))\n",
      "There were not enough observations (17) in (Interval(9.0, 12.0, closed='right'), Interval(35.0, 41.0, closed='right'))\n",
      "There were not enough observations (86) in (Interval(12.0, 25.5, closed='right'), Interval(3.999, 12.0, closed='right'))\n",
      "There were not enough observations (96) in (Interval(12.0, 25.5, closed='right'), Interval(30.0, 35.0, closed='right'))\n",
      "Returned 71 of 93 distinct data frames grouped by: ['Wind_cut', 'Temp_cut', 'Time_batch']\n",
      "Sizes of data frames: [159, 178, 180, 188, 189, 205, 209, 230, 236, 288, 300, 311, 335, 354, 403, 404, 410, 417, 431, 442, 455, 458, 469, 481, 486, 489, 512, 518, 523, 532, 534, 540, 549, 562, 569, 583, 600, 616, 622, 671, 735, 770, 809, 841, 854, 886, 891, 898, 919, 942, 977, 987, 989, 1015, 1021, 1032, 1055, 1089, 1165, 1365, 1391, 1497, 1570, 1630, 1659, 1863, 1932, 1960, 2202, 2818, 2827]\n",
      "41 of 71 are less than zero.\n"
     ]
    },
    {
     "data": {
      "image/png": "[encoded data removed]",
      "text/plain": [
       "<Figure size 600x400 with 1 Axes>"
      ]
     },
     "metadata": {
      "needs_background": "light"
     },
     "output_type": "display_data"
    }
   ],
   "source": [
    "slices_T07 = slice_signals(signals_T07, Wind=wind_split, Temp=temp_split)\n",
    "result_T07 = make_regression(slices_T07, visualize=False)\n",
    "plot_results(result_T07)"
   ]
  },
  {
   "cell_type": "code",
   "execution_count": 18,
   "metadata": {},
   "outputs": [
    {
     "name": "stdout",
     "output_type": "stream",
     "text": [
      "There were not enough observations (2) in (Interval(0.399, 3.0, closed='right'), Interval(3.999, 12.0, closed='right'))\n",
      "There were not enough observations (7) in (Interval(0.399, 3.0, closed='right'), Interval(12.0, 15.0, closed='right'))\n",
      "There were not enough observations (1) in (Interval(0.399, 3.0, closed='right'), Interval(15.0, 18.0, closed='right'))\n",
      "There were not enough observations (2) in (Interval(0.399, 3.0, closed='right'), Interval(18.0, 20.0, closed='right'))\n",
      "There were not enough observations (1) in (Interval(0.399, 3.0, closed='right'), Interval(20.0, 22.0, closed='right'))\n",
      "There were not enough observations (3) in (Interval(0.399, 3.0, closed='right'), Interval(22.0, 25.0, closed='right'))\n",
      "There were not enough observations (7) in (Interval(0.399, 3.0, closed='right'), Interval(25.0, 30.0, closed='right'))\n",
      "There were not enough observations (1) in (Interval(0.399, 3.0, closed='right'), Interval(30.0, 35.0, closed='right'))\n",
      "There were not enough observations (107) in (Interval(3.0, 3.5, closed='right'), Interval(3.999, 12.0, closed='right'))\n",
      "There were not enough observations (119) in (Interval(3.0, 3.5, closed='right'), Interval(18.0, 20.0, closed='right'))\n",
      "There were not enough observations (124) in (Interval(3.0, 3.5, closed='right'), Interval(20.0, 22.0, closed='right'))\n",
      "There were not enough observations (71) in (Interval(3.0, 3.5, closed='right'), Interval(22.0, 25.0, closed='right'))\n",
      "There were not enough observations (67) in (Interval(3.0, 3.5, closed='right'), Interval(25.0, 30.0, closed='right'))\n",
      "There were not enough observations (30) in (Interval(3.0, 3.5, closed='right'), Interval(30.0, 35.0, closed='right'))\n",
      "There were not enough observations (2) in (Interval(3.0, 3.5, closed='right'), Interval(35.0, 41.0, closed='right'))\n",
      "There were not enough observations (32) in (Interval(3.5, 4.0, closed='right'), Interval(35.0, 41.0, closed='right'))\n",
      "There were not enough observations (54) in (Interval(4.0, 4.5, closed='right'), Interval(35.0, 41.0, closed='right'))\n",
      "There were not enough observations (30) in (Interval(4.5, 5.0, closed='right'), Interval(35.0, 41.0, closed='right'))\n",
      "There were not enough observations (12) in (Interval(5.0, 5.5, closed='right'), Interval(35.0, 41.0, closed='right'))\n",
      "There were not enough observations (119) in (Interval(5.5, 6.0, closed='right'), Interval(3.999, 12.0, closed='right'))\n",
      "There were not enough observations (25) in (Interval(5.5, 6.0, closed='right'), Interval(35.0, 41.0, closed='right'))\n",
      "There were not enough observations (35) in (Interval(6.0, 7.0, closed='right'), Interval(35.0, 41.0, closed='right'))\n",
      "There were not enough observations (41) in (Interval(7.0, 9.0, closed='right'), Interval(35.0, 41.0, closed='right'))\n",
      "There were not enough observations (10) in (Interval(9.0, 12.0, closed='right'), Interval(35.0, 41.0, closed='right'))\n",
      "There were not enough observations (60) in (Interval(12.0, 22.4, closed='right'), Interval(3.999, 12.0, closed='right'))\n",
      "There were not enough observations (89) in (Interval(12.0, 22.4, closed='right'), Interval(30.0, 35.0, closed='right'))\n",
      "Returned 71 of 97 distinct data frames grouped by: ['Wind_cut', 'Temp_cut', 'Time_batch']\n",
      "Sizes of data frames: [169, 170, 176, 181, 216, 217, 228, 228, 235, 244, 260, 271, 302, 305, 378, 388, 389, 389, 391, 395, 400, 403, 410, 418, 428, 439, 443, 448, 450, 473, 473, 491, 525, 537, 537, 558, 561, 586, 602, 613, 627, 673, 681, 692, 799, 807, 843, 860, 877, 877, 888, 896, 904, 913, 930, 957, 1091, 1128, 1173, 1278, 1281, 1293, 1702, 1788, 1876, 1911, 2124, 2226, 2277, 3021, 3478]\n",
      "5 of 71 are less than zero.\n"
     ]
    },
    {
     "data": {
      "image/png": "[encoded data removed]",
      "text/plain": [
       "<Figure size 600x400 with 1 Axes>"
      ]
     },
     "metadata": {
      "needs_background": "light"
     },
     "output_type": "display_data"
    }
   ],
   "source": [
    "slices_T09 = slice_signals(signals_T09, Wind=wind_split, Temp=temp_split)\n",
    "result_T09 = make_regression(slices_T09, visualize=False)\n",
    "plot_results(result_T09)"
   ]
  },
  {
   "cell_type": "code",
   "execution_count": 19,
   "metadata": {},
   "outputs": [
    {
     "name": "stdout",
     "output_type": "stream",
     "text": [
      "There were not enough observations (2) in (Interval(0.399, 3.0, closed='right'), Interval(4.999, 12.0, closed='right'))\n",
      "There were not enough observations (10) in (Interval(0.399, 3.0, closed='right'), Interval(12.0, 15.0, closed='right'))\n",
      "There were not enough observations (1) in (Interval(0.399, 3.0, closed='right'), Interval(15.0, 18.0, closed='right'))\n",
      "There were not enough observations (3) in (Interval(0.399, 3.0, closed='right'), Interval(18.0, 20.0, closed='right'))\n",
      "There were not enough observations (6) in (Interval(0.399, 3.0, closed='right'), Interval(20.0, 22.0, closed='right'))\n",
      "There were not enough observations (5) in (Interval(0.399, 3.0, closed='right'), Interval(22.0, 25.0, closed='right'))\n",
      "There were not enough observations (6) in (Interval(0.399, 3.0, closed='right'), Interval(25.0, 30.0, closed='right'))\n",
      "There were not enough observations (1) in (Interval(0.399, 3.0, closed='right'), Interval(30.0, 35.0, closed='right'))\n",
      "There were not enough observations (113) in (Interval(3.0, 3.5, closed='right'), Interval(4.999, 12.0, closed='right'))\n",
      "There were not enough observations (50) in (Interval(3.0, 3.5, closed='right'), Interval(30.0, 35.0, closed='right'))\n",
      "There were not enough observations (6) in (Interval(3.0, 3.5, closed='right'), Interval(35.0, 41.0, closed='right'))\n",
      "There were not enough observations (36) in (Interval(3.5, 4.0, closed='right'), Interval(35.0, 41.0, closed='right'))\n",
      "There were not enough observations (41) in (Interval(4.0, 4.5, closed='right'), Interval(35.0, 41.0, closed='right'))\n",
      "There were not enough observations (24) in (Interval(4.5, 5.0, closed='right'), Interval(35.0, 41.0, closed='right'))\n",
      "There were not enough observations (25) in (Interval(5.0, 5.5, closed='right'), Interval(35.0, 41.0, closed='right'))\n",
      "There were not enough observations (17) in (Interval(5.5, 6.0, closed='right'), Interval(35.0, 41.0, closed='right'))\n",
      "There were not enough observations (32) in (Interval(6.0, 7.0, closed='right'), Interval(35.0, 41.0, closed='right'))\n",
      "There were not enough observations (54) in (Interval(7.0, 9.0, closed='right'), Interval(35.0, 41.0, closed='right'))\n",
      "There were not enough observations (4) in (Interval(9.0, 12.0, closed='right'), Interval(35.0, 41.0, closed='right'))\n",
      "There were not enough observations (97) in (Interval(12.0, 21.8, closed='right'), Interval(4.999, 12.0, closed='right'))\n",
      "There were not enough observations (77) in (Interval(12.0, 21.8, closed='right'), Interval(30.0, 35.0, closed='right'))\n",
      "Returned 76 of 97 distinct data frames grouped by: ['Wind_cut', 'Temp_cut', 'Time_batch']\n",
      "Sizes of data frames: [152, 162, 169, 175, 177, 194, 199, 204, 213, 229, 242, 266, 280, 297, 304, 309, 325, 327, 329, 331, 393, 398, 422, 422, 436, 436, 438, 465, 485, 487, 504, 510, 545, 547, 551, 552, 559, 584, 618, 618, 628, 629, 674, 688, 708, 713, 751, 783, 791, 883, 918, 929, 967, 1004, 1012, 1029, 1042, 1070, 1084, 1096, 1113, 1116, 1130, 1184, 1250, 1422, 1441, 1455, 1945, 2006, 2135, 2160, 2359, 2438, 3243, 3920]\n",
      "55 of 76 are less than zero.\n"
     ]
    },
    {
     "data": {
      "image/png": "[encoded data removed]",
      "text/plain": [
       "<Figure size 600x400 with 1 Axes>"
      ]
     },
     "metadata": {
      "needs_background": "light"
     },
     "output_type": "display_data"
    }
   ],
   "source": [
    "slices_T11 = slice_signals(signals_T11, Wind=wind_split, Temp=temp_split)\n",
    "result_T11 = make_regression(slices_T11, visualize=False)\n",
    "plot_results(result_T11)"
   ]
  },
  {
   "cell_type": "markdown",
   "metadata": {},
   "source": [
    "## Wnioski\n",
    "\n",
    "Na powyższych wykresach przerywaną linią zaznaczono prostą $y=0$, a ciągłą średni współczynnik kierunkowy otrzymany z modeli regresji.\n",
    "\n",
    "Turbina 9 działa w pełni sprawnie i nie starzeje się w czasie.\n",
    "\n",
    "Na wykresach widać również, że im większe wartości wiatru (dalej w prawo), tym wyniki są bardziej chaotyczne i przypadkowe. Analizę powtórzymy zatem z wycięciem obserwacji, które nie dają się prognozować.\n",
    "\n",
    "Widać także cykliczność w początkowych kilkunastu punktach, gdzie co piąta obserwacja wybija się w górę. Odpowiada ona najniższej możliwej grupie temperaturowej, gdzie sprawność nie jest pogarszana z czasem."
   ]
  }
 ],
 "metadata": {
  "kernelspec": {
   "display_name": "Python 3",
   "language": "python",
   "name": "python3"
  },
  "language_info": {
   "codemirror_mode": {
    "name": "ipython",
    "version": 3
   },
   "file_extension": ".py",
   "mimetype": "text/x-python",
   "name": "python",
   "nbconvert_exporter": "python",
   "pygments_lexer": "ipython3",
   "version": "3.8.5"
  }
 },
 "nbformat": 4,
 "nbformat_minor": 4
}
